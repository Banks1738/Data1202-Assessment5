{
 "cells": [
  {
   "cell_type": "code",
   "execution_count": 2,
   "metadata": {},
   "outputs": [],
   "source": [
    "import pandas as pd\n",
    "import matplotlib.pyplot as plt"
   ]
  },
  {
   "cell_type": "code",
   "execution_count": 17,
   "metadata": {},
   "outputs": [],
   "source": [
    "pd.set_option('display.max_columns', 50)\n",
    "yt_data = pd.read_csv(r\"C:\\Users\\BANKY\\Desktop\\FALL SEMESTER\\DATA 1202\\ASSESSMENT\\ASSESSMENT 4\\youtube_dataset.csv\", encoding='latin-1')"
   ]
  },
  {
   "cell_type": "code",
   "execution_count": 42,
   "metadata": {
    "scrolled": false
   },
   "outputs": [
    {
     "name": "stdout",
     "output_type": "stream",
     "text": [
      "Entertainment    284\n",
      "Music            240\n",
      "Games            115\n",
      "Comedy            76\n",
      "People            72\n",
      "Howto             49\n",
      "Film              36\n",
      "Education         30\n",
      "Tech              19\n",
      "News              17\n",
      "Sports            17\n",
      "Autos              3\n",
      "Animals            2\n",
      "Travel             1\n",
      "Nonprofit          1\n",
      "Name: channeltype, dtype: int64\n"
     ]
    },
    {
     "data": {
      "image/png": "[encoded data removed]",
      "text/plain": [
       "<Figure size 432x288 with 1 Axes>"
      ]
     },
     "metadata": {
      "needs_background": "light"
     },
     "output_type": "display_data"
    }
   ],
   "source": [
    "top_thousand_rec = yt_data.iloc[:1000,:]\n",
    "top_thousand_rec\n",
    "\n",
    "def calc_dist(dataframe, groupfilter):\n",
    "    print(dataframe[groupfilter].value_counts())\n",
    "    dataframe[groupfilter].value_counts().plot(kind='bar', color='green')\n",
    "\n",
    "calc_dist(top_thousand_rec, 'channeltype')\n",
    "\n",
    "top_thousand_rec.to_csv('C:/Users/BANKY/Desktop/FALL SEMESTER/DATA 1202/ASSESSMENT/ASSESSMENT 4/channeltype_Top_1000.csv')"
   ]
  },
  {
   "cell_type": "code",
   "execution_count": null,
   "metadata": {},
   "outputs": [],
   "source": []
  },
  {
   "cell_type": "code",
   "execution_count": null,
   "metadata": {},
   "outputs": [],
   "source": []
  }
 ],
 "metadata": {
  "kernelspec": {
   "display_name": "Python 3",
   "language": "python",
   "name": "python3"
  },
  "language_info": {
   "codemirror_mode": {
    "name": "ipython",
    "version": 3
   },
   "file_extension": ".py",
   "mimetype": "text/x-python",
   "name": "python",
   "nbconvert_exporter": "python",
   "pygments_lexer": "ipython3",
   "version": "3.8.3"
  }
 },
 "nbformat": 4,
 "nbformat_minor": 4
}
